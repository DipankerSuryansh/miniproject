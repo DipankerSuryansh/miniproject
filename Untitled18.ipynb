{
  "nbformat": 4,
  "nbformat_minor": 0,
  "metadata": {
    "colab": {
      "name": "Untitled18.ipynb",
      "provenance": [],
      "collapsed_sections": [],
      "authorship_tag": "ABX9TyMTrieVovRYmsYK+JEWwMAU",
      "include_colab_link": true
    },
    "kernelspec": {
      "name": "python3",
      "display_name": "Python 3"
    },
    "language_info": {
      "name": "python"
    }
  },
  "cells": [
    {
      "cell_type": "markdown",
      "metadata": {
        "id": "view-in-github",
        "colab_type": "text"
      },
      "source": [
        "<a href=\"https://colab.research.google.com/github/DipankerSuryansh/miniproject/blob/main/Untitled18.ipynb\" target=\"_parent\"><img src=\"https://colab.research.google.com/assets/colab-badge.svg\" alt=\"Open In Colab\"/></a>"
      ]
    },
    {
      "cell_type": "code",
      "execution_count": null,
      "metadata": {
        "id": "UGMPPtHqFdKA"
      },
      "outputs": [],
      "source": [
        "# description rock ,paper,scissor program\n"
      ]
    },
    {
      "cell_type": "code",
      "source": [
        "#import the libraries\n",
        "import random"
      ],
      "metadata": {
        "id": "6fWlefCMFppe"
      },
      "execution_count": 11,
      "outputs": []
    },
    {
      "cell_type": "code",
      "source": [
        "choices =[\"R\",\"P\",\"S\"]"
      ],
      "metadata": {
        "id": "-jONqwSMFvfS"
      },
      "execution_count": 13,
      "outputs": []
    },
    {
      "cell_type": "code",
      "source": [
        "def get_choice(input):\n",
        "  if input ==\"R\":\n",
        "    return \"Rock\"\n",
        "  elif input ==\"P\":\n",
        "    return \"paper\"\n",
        "  elif input == \"S\":\n",
        "    return \"Scissors\"\n",
        "  else:\n",
        "        return \"Not[R,P,or S]\"\n",
        "\n"
      ],
      "metadata": {
        "id": "q1lSprbFF4ci"
      },
      "execution_count": 14,
      "outputs": []
    },
    {
      "cell_type": "code",
      "source": [
        "print('rock,paper,scissor-shoot!')\n",
        "print('[R]=Rock,[P]=Paper,[s]=Scissor and [Q]=Quit')\n",
        "counter = 1\n",
        "\n",
        "while True:\n",
        "  print('Game '+str(counter)+':')\n",
        "  print('please choose the letter :')\n",
        "  user_choice=input()\n",
        "\n",
        "  if user_choice == \"Q\":\n",
        "    print('thanks for playing ! have a great day')\n",
        "    break;\n",
        "\n",
        "  random_index = random.randint(0,2)\n",
        "  computer_choice = choices[random_index]\n",
        "\n",
        "  print('you chose'+get_choice(user_choice)+' the  computer chose'+get_choice(computer_choice))\n",
        "\n",
        "  if user_choice == \"R\" and computer_choice == \"S\":\n",
        "    print('you win, rock beat scissor')\n",
        "  elif user_choice == \"P\" and computer_choice == \"R\":\n",
        "    print('you win, paper beat rock')\n",
        "  elif user_choice == \"S\" and computer_choice == \"P\":\n",
        "    print('you win, scissor beat paper')\n",
        "\n",
        "  elif user_choice == \"R\" and computer_choice == \"P\":\n",
        "    print('COMPUTER WIN win, PAPER beat ROCK')\n",
        "  elif user_choice == \"P\" and computer_choice == \"S\":\n",
        "    print('computer win, scissor beat paper')\n",
        "  elif user_choice == \"S\" and computer_choice == \"R\":\n",
        "    print('computer win, rock beat scissor')\n",
        "  \n",
        "  elif user_choice == computer_choice:\n",
        "    print('it is tie.....!')\n",
        "\n",
        "  else:\n",
        "    print('please enter [R ,P,S OR Q]')\n",
        "\n",
        "  counter = counter + 1\n",
        "  print('\\n')\n",
        "\n",
        "\n",
        "  \n"
      ],
      "metadata": {
        "colab": {
          "base_uri": "https://localhost:8080/"
        },
        "id": "HhUoH3tTHUOa",
        "outputId": "3726f642-a833-43fa-ed06-85f9e39233cf"
      },
      "execution_count": 16,
      "outputs": [
        {
          "output_type": "stream",
          "name": "stdout",
          "text": [
            "rock,paper,scissor-shoot!\n",
            "[R]=Rock,[P]=Paper,[s]=Scissor and [Q]=Quit\n",
            "Game 1:\n",
            "please choose the letter :\n",
            "R\n",
            "you choseRock the  computer chosepaper\n",
            "COMPUTER WIN win, PAPER beat ROCK\n",
            "\n",
            "\n",
            "Game 2:\n",
            "please choose the letter :\n",
            "P\n",
            "you chosepaper the  computer choseRock\n",
            "you win, paper beat rock\n",
            "\n",
            "\n",
            "Game 3:\n",
            "please choose the letter :\n",
            "S\n",
            "you choseScissors the  computer choseScissors\n",
            "it is tie.....!\n",
            "\n",
            "\n",
            "Game 4:\n",
            "please choose the letter :\n",
            "Q\n",
            "thanks for playing ! have a great day\n"
          ]
        }
      ]
    }
  ]
}